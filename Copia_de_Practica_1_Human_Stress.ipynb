{
  "nbformat": 4,
  "nbformat_minor": 0,
  "metadata": {
    "colab": {
      "name": "Copia de Practica 1. Human Stress.ipynb",
      "provenance": [],
      "collapsed_sections": [],
      "include_colab_link": true
    },
    "kernelspec": {
      "name": "python3",
      "display_name": "Python 3"
    },
    "language_info": {
      "name": "python"
    }
  },
  "cells": [
    {
      "cell_type": "markdown",
      "metadata": {
        "id": "view-in-github",
        "colab_type": "text"
      },
      "source": [
        "<a href=\"https://colab.research.google.com/github/lenim2/BIGDATA/blob/main/Copia_de_Practica_1_Human_Stress.ipynb\" target=\"_parent\"><img src=\"https://colab.research.google.com/assets/colab-badge.svg\" alt=\"Open In Colab\"/></a>"
      ]
    },
    {
      "cell_type": "markdown",
      "source": [
        "# PRACTICA 1. MACHINE LEARNING\n",
        "### “Humedad – Temperatura – Recuento de pasos – Niveles de estrés” \n",
        "\n",
        "<img src=\"https://www.neuraldojo.org/media/stres2.jpg\"\n",
        "     alt=\"Markdown Monster icon\"\n",
        "     style=\"float: left; margin-right: 10px;\" width=\"100%\"/>\n",
        "\n",
        "\n",
        "##**Nombre del alumno:**\n",
        "\n",
        "\n",
        "En base a la actividad física del ser humano, aquí se detectan y analizan los niveles de estrés del ser humano. Se proporciona un conjunto de datos de 2001 muestras para la humedad del cuerpo humano, la temperatura corporal y la cantidad de pasos dados por el usuario. Se realizan tres clasificaciones diferentes de estrés, estrés bajo, estrés normal y estrés alto. \n",
        "\n",
        "\n",
        "Construir un modelo para predecir el tipo de estress de una persona, para esto debe:\n",
        "- Seguir todos los pasos de un proceso ML:\n",
        "    - Identificación del Problema\n",
        "    - Importación de datos\n",
        "    - EDA\n",
        "    - Modelado\n",
        "    - Evaluación y Selección del Modelo\n",
        "\n",
        "\n",
        "Criteros de Evaluación:\n",
        "\n",
        "- Todo el código del proyecto esté contenido en un cuaderno o script de Jupyter o Google Colab. \n",
        "\n",
        "- Demuestre una ejecución y salida exitosas del código, sin errores.\n",
        "\n",
        "- Escriba código que esté bien documentado y use funciones y clases según sea necesario.\n",
        "\n",
        "- Genere visualizaciones para comprender mejor los datos\n",
        "\n",
        "- Que incluya metodos de exploración de datos\n",
        "\n",
        "- Pruebe con al menos dos algoritmos ML y juege con sus parametros.\n",
        "\n",
        "- Seleccione el mejor modelo e imprima su scores.\n",
        "\n",
        "- Conclusiones\n",
        "\n",
        "\n",
        "Dataset: https://www.neuraldojo.org/media/humanstress/dataset.zip\n",
        "\n",
        "Método de Entrega del trabajo:\n",
        "\n",
        "Alternativas\n",
        "- Subir el enlace a plataforma Capacita Global\n",
        "- Enviar el enlace de colab a mi correo: necrus.aikon@gmail.com, Asunto: Human Stress ML\n",
        "- Enviar el archivo en formato *.ipynb a mi correo: necrus.aikon@gmail.com Asunto: Human Stress ML\n",
        "\n",
        "\n",
        "Fecha de Entrega: 17/03/2022\n"
      ],
      "metadata": {
        "id": "KbQ37Aw9msW1"
      }
    },
    {
      "cell_type": "markdown",
      "source": [
        "1.- PRACTICA 2\n",
        "\n",
        "Importacion de las librerias"
      ],
      "metadata": {
        "id": "svGcc2W0myw0"
      }
    },
    {
      "cell_type": "code",
      "source": [
        "import numpy as np\n",
        "import matplotlib.pyplot as plt\n",
        "import seaborn as sms \n",
        "import pandas as pd\n",
        "from sklearn.model_selection import train_test_split\n"
      ],
      "metadata": {
        "id": "6RkGKGN3Jlhh"
      },
      "execution_count": 2,
      "outputs": []
    },
    {
      "cell_type": "code",
      "source": [
        "stress =pd.read_csv('Stress-Lysis.csv' , sep=',')"
      ],
      "metadata": {
        "id": "ojFyNT0HKVxH"
      },
      "execution_count": 4,
      "outputs": []
    },
    {
      "cell_type": "markdown",
      "source": [
        "2.- Preparacion de los datos\n",
        "\n",
        "2.1 Inspeccion de los datos"
      ],
      "metadata": {
        "id": "V9wzOW5_KWld"
      }
    },
    {
      "cell_type": "code",
      "source": [
        "stress.head()"
      ],
      "metadata": {
        "colab": {
          "base_uri": "https://localhost:8080/",
          "height": 206
        },
        "id": "Ik2ZK0j9MDEi",
        "outputId": "fbb1ba59-501c-404c-a2e7-c17204d1e510"
      },
      "execution_count": 5,
      "outputs": [
        {
          "output_type": "execute_result",
          "data": {
            "text/plain": [
              "   Humidity  Temperature  Step count  Stress Level\n",
              "0     21.33        90.33       123.0             1\n",
              "1     21.41        90.41        93.0             1\n",
              "2     27.12        96.12       196.0             2\n",
              "3     27.64        96.64       177.0             2\n",
              "4       NaN        79.87        87.0             0"
            ],
            "text/html": [
              "\n",
              "  <div id=\"df-d359969c-cb14-4ad7-89bf-baf85a72802b\">\n",
              "    <div class=\"colab-df-container\">\n",
              "      <div>\n",
              "<style scoped>\n",
              "    .dataframe tbody tr th:only-of-type {\n",
              "        vertical-align: middle;\n",
              "    }\n",
              "\n",
              "    .dataframe tbody tr th {\n",
              "        vertical-align: top;\n",
              "    }\n",
              "\n",
              "    .dataframe thead th {\n",
              "        text-align: right;\n",
              "    }\n",
              "</style>\n",
              "<table border=\"1\" class=\"dataframe\">\n",
              "  <thead>\n",
              "    <tr style=\"text-align: right;\">\n",
              "      <th></th>\n",
              "      <th>Humidity</th>\n",
              "      <th>Temperature</th>\n",
              "      <th>Step count</th>\n",
              "      <th>Stress Level</th>\n",
              "    </tr>\n",
              "  </thead>\n",
              "  <tbody>\n",
              "    <tr>\n",
              "      <th>0</th>\n",
              "      <td>21.33</td>\n",
              "      <td>90.33</td>\n",
              "      <td>123.0</td>\n",
              "      <td>1</td>\n",
              "    </tr>\n",
              "    <tr>\n",
              "      <th>1</th>\n",
              "      <td>21.41</td>\n",
              "      <td>90.41</td>\n",
              "      <td>93.0</td>\n",
              "      <td>1</td>\n",
              "    </tr>\n",
              "    <tr>\n",
              "      <th>2</th>\n",
              "      <td>27.12</td>\n",
              "      <td>96.12</td>\n",
              "      <td>196.0</td>\n",
              "      <td>2</td>\n",
              "    </tr>\n",
              "    <tr>\n",
              "      <th>3</th>\n",
              "      <td>27.64</td>\n",
              "      <td>96.64</td>\n",
              "      <td>177.0</td>\n",
              "      <td>2</td>\n",
              "    </tr>\n",
              "    <tr>\n",
              "      <th>4</th>\n",
              "      <td>NaN</td>\n",
              "      <td>79.87</td>\n",
              "      <td>87.0</td>\n",
              "      <td>0</td>\n",
              "    </tr>\n",
              "  </tbody>\n",
              "</table>\n",
              "</div>\n",
              "      <button class=\"colab-df-convert\" onclick=\"convertToInteractive('df-d359969c-cb14-4ad7-89bf-baf85a72802b')\"\n",
              "              title=\"Convert this dataframe to an interactive table.\"\n",
              "              style=\"display:none;\">\n",
              "        \n",
              "  <svg xmlns=\"http://www.w3.org/2000/svg\" height=\"24px\"viewBox=\"0 0 24 24\"\n",
              "       width=\"24px\">\n",
              "    <path d=\"M0 0h24v24H0V0z\" fill=\"none\"/>\n",
              "    <path d=\"M18.56 5.44l.94 2.06.94-2.06 2.06-.94-2.06-.94-.94-2.06-.94 2.06-2.06.94zm-11 1L8.5 8.5l.94-2.06 2.06-.94-2.06-.94L8.5 2.5l-.94 2.06-2.06.94zm10 10l.94 2.06.94-2.06 2.06-.94-2.06-.94-.94-2.06-.94 2.06-2.06.94z\"/><path d=\"M17.41 7.96l-1.37-1.37c-.4-.4-.92-.59-1.43-.59-.52 0-1.04.2-1.43.59L10.3 9.45l-7.72 7.72c-.78.78-.78 2.05 0 2.83L4 21.41c.39.39.9.59 1.41.59.51 0 1.02-.2 1.41-.59l7.78-7.78 2.81-2.81c.8-.78.8-2.07 0-2.86zM5.41 20L4 18.59l7.72-7.72 1.47 1.35L5.41 20z\"/>\n",
              "  </svg>\n",
              "      </button>\n",
              "      \n",
              "  <style>\n",
              "    .colab-df-container {\n",
              "      display:flex;\n",
              "      flex-wrap:wrap;\n",
              "      gap: 12px;\n",
              "    }\n",
              "\n",
              "    .colab-df-convert {\n",
              "      background-color: #E8F0FE;\n",
              "      border: none;\n",
              "      border-radius: 50%;\n",
              "      cursor: pointer;\n",
              "      display: none;\n",
              "      fill: #1967D2;\n",
              "      height: 32px;\n",
              "      padding: 0 0 0 0;\n",
              "      width: 32px;\n",
              "    }\n",
              "\n",
              "    .colab-df-convert:hover {\n",
              "      background-color: #E2EBFA;\n",
              "      box-shadow: 0px 1px 2px rgba(60, 64, 67, 0.3), 0px 1px 3px 1px rgba(60, 64, 67, 0.15);\n",
              "      fill: #174EA6;\n",
              "    }\n",
              "\n",
              "    [theme=dark] .colab-df-convert {\n",
              "      background-color: #3B4455;\n",
              "      fill: #D2E3FC;\n",
              "    }\n",
              "\n",
              "    [theme=dark] .colab-df-convert:hover {\n",
              "      background-color: #434B5C;\n",
              "      box-shadow: 0px 1px 3px 1px rgba(0, 0, 0, 0.15);\n",
              "      filter: drop-shadow(0px 1px 2px rgba(0, 0, 0, 0.3));\n",
              "      fill: #FFFFFF;\n",
              "    }\n",
              "  </style>\n",
              "\n",
              "      <script>\n",
              "        const buttonEl =\n",
              "          document.querySelector('#df-d359969c-cb14-4ad7-89bf-baf85a72802b button.colab-df-convert');\n",
              "        buttonEl.style.display =\n",
              "          google.colab.kernel.accessAllowed ? 'block' : 'none';\n",
              "\n",
              "        async function convertToInteractive(key) {\n",
              "          const element = document.querySelector('#df-d359969c-cb14-4ad7-89bf-baf85a72802b');\n",
              "          const dataTable =\n",
              "            await google.colab.kernel.invokeFunction('convertToInteractive',\n",
              "                                                     [key], {});\n",
              "          if (!dataTable) return;\n",
              "\n",
              "          const docLinkHtml = 'Like what you see? Visit the ' +\n",
              "            '<a target=\"_blank\" href=https://colab.research.google.com/notebooks/data_table.ipynb>data table notebook</a>'\n",
              "            + ' to learn more about interactive tables.';\n",
              "          element.innerHTML = '';\n",
              "          dataTable['output_type'] = 'display_data';\n",
              "          await google.colab.output.renderOutput(dataTable, element);\n",
              "          const docLink = document.createElement('div');\n",
              "          docLink.innerHTML = docLinkHtml;\n",
              "          element.appendChild(docLink);\n",
              "        }\n",
              "      </script>\n",
              "    </div>\n",
              "  </div>\n",
              "  "
            ]
          },
          "metadata": {},
          "execution_count": 5
        }
      ]
    },
    {
      "cell_type": "code",
      "source": [
        "stress.shape"
      ],
      "metadata": {
        "colab": {
          "base_uri": "https://localhost:8080/"
        },
        "id": "av4WcjBIMQAt",
        "outputId": "5a48a280-93ee-468d-d11d-83254ae814da"
      },
      "execution_count": 6,
      "outputs": [
        {
          "output_type": "execute_result",
          "data": {
            "text/plain": [
              "(2001, 4)"
            ]
          },
          "metadata": {},
          "execution_count": 6
        }
      ]
    },
    {
      "cell_type": "code",
      "source": [
        "stress.info()"
      ],
      "metadata": {
        "colab": {
          "base_uri": "https://localhost:8080/"
        },
        "id": "Kd3hqcyMMw6z",
        "outputId": "15aa922e-0650-4c5b-a2fa-13238f14194f"
      },
      "execution_count": 7,
      "outputs": [
        {
          "output_type": "stream",
          "name": "stdout",
          "text": [
            "<class 'pandas.core.frame.DataFrame'>\n",
            "RangeIndex: 2001 entries, 0 to 2000\n",
            "Data columns (total 4 columns):\n",
            " #   Column        Non-Null Count  Dtype  \n",
            "---  ------        --------------  -----  \n",
            " 0   Humidity      1990 non-null   float64\n",
            " 1   Temperature   1977 non-null   float64\n",
            " 2   Step count    1984 non-null   float64\n",
            " 3   Stress Level  2001 non-null   int64  \n",
            "dtypes: float64(3), int64(1)\n",
            "memory usage: 62.7 KB\n"
          ]
        }
      ]
    },
    {
      "cell_type": "code",
      "source": [
        "stress.describe()"
      ],
      "metadata": {
        "colab": {
          "base_uri": "https://localhost:8080/",
          "height": 300
        },
        "id": "YFai223vHbwh",
        "outputId": "d5e1b8cc-962c-40c7-89af-c1ea9417ff25"
      },
      "execution_count": 8,
      "outputs": [
        {
          "output_type": "execute_result",
          "data": {
            "text/plain": [
              "          Humidity  Temperature     Step count  Stress Level\n",
              "count  1990.000000  1977.000000    1984.000000   2001.000000\n",
              "mean     20.001829    89.012215     166.525202      1.104448\n",
              "std       5.785047     5.793937    2439.424048      0.771094\n",
              "min      10.000000    79.000000       0.000000      0.000000\n",
              "25%      14.982500    83.970000      49.750000      0.000000\n",
              "50%      19.995000    89.010000     101.000000      1.000000\n",
              "75%      25.017500    94.050000     151.000000      2.000000\n",
              "max      30.000000    99.000000  107150.000000      2.000000"
            ],
            "text/html": [
              "\n",
              "  <div id=\"df-c0137da1-17f3-450d-a873-876e10bc31ae\">\n",
              "    <div class=\"colab-df-container\">\n",
              "      <div>\n",
              "<style scoped>\n",
              "    .dataframe tbody tr th:only-of-type {\n",
              "        vertical-align: middle;\n",
              "    }\n",
              "\n",
              "    .dataframe tbody tr th {\n",
              "        vertical-align: top;\n",
              "    }\n",
              "\n",
              "    .dataframe thead th {\n",
              "        text-align: right;\n",
              "    }\n",
              "</style>\n",
              "<table border=\"1\" class=\"dataframe\">\n",
              "  <thead>\n",
              "    <tr style=\"text-align: right;\">\n",
              "      <th></th>\n",
              "      <th>Humidity</th>\n",
              "      <th>Temperature</th>\n",
              "      <th>Step count</th>\n",
              "      <th>Stress Level</th>\n",
              "    </tr>\n",
              "  </thead>\n",
              "  <tbody>\n",
              "    <tr>\n",
              "      <th>count</th>\n",
              "      <td>1990.000000</td>\n",
              "      <td>1977.000000</td>\n",
              "      <td>1984.000000</td>\n",
              "      <td>2001.000000</td>\n",
              "    </tr>\n",
              "    <tr>\n",
              "      <th>mean</th>\n",
              "      <td>20.001829</td>\n",
              "      <td>89.012215</td>\n",
              "      <td>166.525202</td>\n",
              "      <td>1.104448</td>\n",
              "    </tr>\n",
              "    <tr>\n",
              "      <th>std</th>\n",
              "      <td>5.785047</td>\n",
              "      <td>5.793937</td>\n",
              "      <td>2439.424048</td>\n",
              "      <td>0.771094</td>\n",
              "    </tr>\n",
              "    <tr>\n",
              "      <th>min</th>\n",
              "      <td>10.000000</td>\n",
              "      <td>79.000000</td>\n",
              "      <td>0.000000</td>\n",
              "      <td>0.000000</td>\n",
              "    </tr>\n",
              "    <tr>\n",
              "      <th>25%</th>\n",
              "      <td>14.982500</td>\n",
              "      <td>83.970000</td>\n",
              "      <td>49.750000</td>\n",
              "      <td>0.000000</td>\n",
              "    </tr>\n",
              "    <tr>\n",
              "      <th>50%</th>\n",
              "      <td>19.995000</td>\n",
              "      <td>89.010000</td>\n",
              "      <td>101.000000</td>\n",
              "      <td>1.000000</td>\n",
              "    </tr>\n",
              "    <tr>\n",
              "      <th>75%</th>\n",
              "      <td>25.017500</td>\n",
              "      <td>94.050000</td>\n",
              "      <td>151.000000</td>\n",
              "      <td>2.000000</td>\n",
              "    </tr>\n",
              "    <tr>\n",
              "      <th>max</th>\n",
              "      <td>30.000000</td>\n",
              "      <td>99.000000</td>\n",
              "      <td>107150.000000</td>\n",
              "      <td>2.000000</td>\n",
              "    </tr>\n",
              "  </tbody>\n",
              "</table>\n",
              "</div>\n",
              "      <button class=\"colab-df-convert\" onclick=\"convertToInteractive('df-c0137da1-17f3-450d-a873-876e10bc31ae')\"\n",
              "              title=\"Convert this dataframe to an interactive table.\"\n",
              "              style=\"display:none;\">\n",
              "        \n",
              "  <svg xmlns=\"http://www.w3.org/2000/svg\" height=\"24px\"viewBox=\"0 0 24 24\"\n",
              "       width=\"24px\">\n",
              "    <path d=\"M0 0h24v24H0V0z\" fill=\"none\"/>\n",
              "    <path d=\"M18.56 5.44l.94 2.06.94-2.06 2.06-.94-2.06-.94-.94-2.06-.94 2.06-2.06.94zm-11 1L8.5 8.5l.94-2.06 2.06-.94-2.06-.94L8.5 2.5l-.94 2.06-2.06.94zm10 10l.94 2.06.94-2.06 2.06-.94-2.06-.94-.94-2.06-.94 2.06-2.06.94z\"/><path d=\"M17.41 7.96l-1.37-1.37c-.4-.4-.92-.59-1.43-.59-.52 0-1.04.2-1.43.59L10.3 9.45l-7.72 7.72c-.78.78-.78 2.05 0 2.83L4 21.41c.39.39.9.59 1.41.59.51 0 1.02-.2 1.41-.59l7.78-7.78 2.81-2.81c.8-.78.8-2.07 0-2.86zM5.41 20L4 18.59l7.72-7.72 1.47 1.35L5.41 20z\"/>\n",
              "  </svg>\n",
              "      </button>\n",
              "      \n",
              "  <style>\n",
              "    .colab-df-container {\n",
              "      display:flex;\n",
              "      flex-wrap:wrap;\n",
              "      gap: 12px;\n",
              "    }\n",
              "\n",
              "    .colab-df-convert {\n",
              "      background-color: #E8F0FE;\n",
              "      border: none;\n",
              "      border-radius: 50%;\n",
              "      cursor: pointer;\n",
              "      display: none;\n",
              "      fill: #1967D2;\n",
              "      height: 32px;\n",
              "      padding: 0 0 0 0;\n",
              "      width: 32px;\n",
              "    }\n",
              "\n",
              "    .colab-df-convert:hover {\n",
              "      background-color: #E2EBFA;\n",
              "      box-shadow: 0px 1px 2px rgba(60, 64, 67, 0.3), 0px 1px 3px 1px rgba(60, 64, 67, 0.15);\n",
              "      fill: #174EA6;\n",
              "    }\n",
              "\n",
              "    [theme=dark] .colab-df-convert {\n",
              "      background-color: #3B4455;\n",
              "      fill: #D2E3FC;\n",
              "    }\n",
              "\n",
              "    [theme=dark] .colab-df-convert:hover {\n",
              "      background-color: #434B5C;\n",
              "      box-shadow: 0px 1px 3px 1px rgba(0, 0, 0, 0.15);\n",
              "      filter: drop-shadow(0px 1px 2px rgba(0, 0, 0, 0.3));\n",
              "      fill: #FFFFFF;\n",
              "    }\n",
              "  </style>\n",
              "\n",
              "      <script>\n",
              "        const buttonEl =\n",
              "          document.querySelector('#df-c0137da1-17f3-450d-a873-876e10bc31ae button.colab-df-convert');\n",
              "        buttonEl.style.display =\n",
              "          google.colab.kernel.accessAllowed ? 'block' : 'none';\n",
              "\n",
              "        async function convertToInteractive(key) {\n",
              "          const element = document.querySelector('#df-c0137da1-17f3-450d-a873-876e10bc31ae');\n",
              "          const dataTable =\n",
              "            await google.colab.kernel.invokeFunction('convertToInteractive',\n",
              "                                                     [key], {});\n",
              "          if (!dataTable) return;\n",
              "\n",
              "          const docLinkHtml = 'Like what you see? Visit the ' +\n",
              "            '<a target=\"_blank\" href=https://colab.research.google.com/notebooks/data_table.ipynb>data table notebook</a>'\n",
              "            + ' to learn more about interactive tables.';\n",
              "          element.innerHTML = '';\n",
              "          dataTable['output_type'] = 'display_data';\n",
              "          await google.colab.output.renderOutput(dataTable, element);\n",
              "          const docLink = document.createElement('div');\n",
              "          docLink.innerHTML = docLinkHtml;\n",
              "          element.appendChild(docLink);\n",
              "        }\n",
              "      </script>\n",
              "    </div>\n",
              "  </div>\n",
              "  "
            ]
          },
          "metadata": {},
          "execution_count": 8
        }
      ]
    },
    {
      "cell_type": "code",
      "source": [
        "stress.isnull().sum()"
      ],
      "metadata": {
        "colab": {
          "base_uri": "https://localhost:8080/"
        },
        "id": "d3Kj9IA8naHT",
        "outputId": "86a4fa21-b49c-4143-c09d-88a978df7e8b"
      },
      "execution_count": 9,
      "outputs": [
        {
          "output_type": "execute_result",
          "data": {
            "text/plain": [
              "Humidity        11\n",
              "Temperature     24\n",
              "Step count      17\n",
              "Stress Level     0\n",
              "dtype: int64"
            ]
          },
          "metadata": {},
          "execution_count": 9
        }
      ]
    },
    {
      "cell_type": "code",
      "source": [
        "targets=stress['Stress Level'].value_counts()\n",
        "targets"
      ],
      "metadata": {
        "colab": {
          "base_uri": "https://localhost:8080/"
        },
        "id": "6pvUo_MurkgF",
        "outputId": "72051a9d-f0a3-49ae-bbe9-19e488782a6d"
      },
      "execution_count": 13,
      "outputs": [
        {
          "output_type": "execute_result",
          "data": {
            "text/plain": [
              "1    790\n",
              "2    710\n",
              "0    501\n",
              "Name: Stress Level, dtype: int64"
            ]
          },
          "metadata": {},
          "execution_count": 13
        }
      ]
    },
    {
      "cell_type": "code",
      "source": [
        "sms.barplot(x=targets.index, y=targets)"
      ],
      "metadata": {
        "colab": {
          "base_uri": "https://localhost:8080/",
          "height": 283
        },
        "id": "hcO-2qVhsmtF",
        "outputId": "ab4036e3-1da8-4710-b0a4-01bc231af061"
      },
      "execution_count": 14,
      "outputs": [
        {
          "output_type": "execute_result",
          "data": {
            "text/plain": [
              "<matplotlib.axes._subplots.AxesSubplot at 0x7f429ccf7050>"
            ]
          },
          "metadata": {},
          "execution_count": 14
        },
        {
          "output_type": "display_data",
          "data": {
            "text/plain": [
              "<Figure size 432x288 with 1 Axes>"
            ],
            "image/png": "[encoded data removed]"
          },
          "metadata": {
            "needs_background": "light"
          }
        }
      ]
    },
    {
      "cell_type": "code",
      "source": [
        "plt.figure(figsize=())"
      ],
      "metadata": {
        "id": "oNK-EAkWs__q"
      },
      "execution_count": null,
      "outputs": []
    }
  ]
}