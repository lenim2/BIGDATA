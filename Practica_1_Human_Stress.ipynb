{
  "nbformat": 4,
  "nbformat_minor": 0,
  "metadata": {
    "colab": {
      "name": "Practica 1. Human Stress.ipynb",
      "provenance": [],
      "collapsed_sections": [],
      "include_colab_link": true
    },
    "kernelspec": {
      "name": "python3",
      "display_name": "Python 3"
    },
    "language_info": {
      "name": "python"
    }
  },
  "cells": [
    {
      "cell_type": "markdown",
      "metadata": {
        "id": "view-in-github",
        "colab_type": "text"
      },
      "source": [
        "<a href=\"https://colab.research.google.com/github/lenim2/BIGDATA/blob/main/Practica_1_Human_Stress.ipynb\" target=\"_parent\"><img src=\"https://colab.research.google.com/assets/colab-badge.svg\" alt=\"Open In Colab\"/></a>"
      ]
    },
    {
      "cell_type": "markdown",
      "source": [
        "# PRACTICA 1. MACHINE LEARNING\n",
        "### “Humedad – Temperatura – Recuento de pasos – Niveles de estrés” \n",
        "\n",
        "<img src=\"https://www.neuraldojo.org/media/stres2.jpg\"\n",
        "     alt=\"Markdown Monster icon\"\n",
        "     style=\"float: left; margin-right: 10px;\" width=\"100%\"/>\n",
        "\n",
        "\n",
        "##**Nombre del alumno:**\n",
        "\n",
        "\n",
        "En base a la actividad física del ser humano, aquí se detectan y analizan los niveles de estrés del ser humano. Se proporciona un conjunto de datos de 2001 muestras para la humedad del cuerpo humano, la temperatura corporal y la cantidad de pasos dados por el usuario. Se realizan tres clasificaciones diferentes de estrés, estrés bajo, estrés normal y estrés alto. \n",
        "\n",
        "\n",
        "Construir un modelo para predecir el tipo de estress de una persona, para esto debe:\n",
        "- Seguir todos los pasos de un proceso ML:\n",
        "    - Identificación del Problema\n",
        "    - Importación de datos\n",
        "    - EDA\n",
        "    - Modelado\n",
        "    - Evaluación y Selección del Modelo\n",
        "\n",
        "\n",
        "Criteros de Evaluación:\n",
        "\n",
        "- Todo el código del proyecto esté contenido en un cuaderno o script de Jupyter o Google Colab. \n",
        "\n",
        "- Demuestre una ejecución y salida exitosas del código, sin errores.\n",
        "\n",
        "- Escriba código que esté bien documentado y use funciones y clases según sea necesario.\n",
        "\n",
        "- Genere visualizaciones para comprender mejor los datos\n",
        "\n",
        "- Que incluya metodos de exploración de datos\n",
        "\n",
        "- Pruebe con al menos dos algoritmos ML y juege con sus parametros.\n",
        "\n",
        "- Seleccione el mejor modelo e imprima su scores.\n",
        "\n",
        "- Conclusiones\n",
        "\n",
        "\n",
        "Dataset: https://www.neuraldojo.org/media/humanstress/dataset.zip\n",
        "\n",
        "Método de Entrega del trabajo:\n",
        "\n",
        "Alternativas\n",
        "- Subir el enlace a plataforma Capacita Global\n",
        "- Enviar el enlace de colab a mi correo: necrus.aikon@gmail.com, Asunto: Human Stress ML\n",
        "- Enviar el archivo en formato *.ipynb a mi correo: necrus.aikon@gmail.com Asunto: Human Stress ML\n",
        "\n",
        "\n",
        "Fecha de Entrega: 17/03/2022\n"
      ],
      "metadata": {
        "id": "KbQ37Aw9msW1"
      }
    },
    {
      "cell_type": "markdown",
      "source": [
        "#PRACTICA 2"
      ],
      "metadata": {
        "id": "svGcc2W0myw0"
      }
    }
  ]
}